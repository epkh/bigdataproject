{
 "cells": [
  {
   "cell_type": "code",
   "execution_count": 24,
   "metadata": {
    "collapsed": true
   },
   "outputs": [],
   "source": [
    "import pandas as pd\n",
    "import numpy as np\n",
    "import matplotlib.pylab as plt\n",
    "from itertools import cycle, islice\n",
    "import weightedcalcs as wc\n",
    "\n",
    "# This line lets us plot on our ipython notebook\n",
    "%matplotlib inline"
   ]
  },
  {
   "cell_type": "code",
   "execution_count": 4,
   "metadata": {
    "collapsed": false
   },
   "outputs": [
    {
     "data": {
      "text/html": [
       "<div>\n",
       "<table border=\"1\" class=\"dataframe\">\n",
       "  <thead>\n",
       "    <tr style=\"text-align: right;\">\n",
       "      <th></th>\n",
       "      <th>RT</th>\n",
       "      <th>SERIALNO</th>\n",
       "      <th>DIVISION</th>\n",
       "      <th>PUMA</th>\n",
       "      <th>REGION</th>\n",
       "      <th>ST</th>\n",
       "      <th>ADJHSG</th>\n",
       "      <th>ADJINC</th>\n",
       "      <th>WGTP</th>\n",
       "      <th>NP</th>\n",
       "      <th>...</th>\n",
       "      <th>wgtp71</th>\n",
       "      <th>wgtp72</th>\n",
       "      <th>wgtp73</th>\n",
       "      <th>wgtp74</th>\n",
       "      <th>wgtp75</th>\n",
       "      <th>wgtp76</th>\n",
       "      <th>wgtp77</th>\n",
       "      <th>wgtp78</th>\n",
       "      <th>wgtp79</th>\n",
       "      <th>wgtp80</th>\n",
       "    </tr>\n",
       "  </thead>\n",
       "  <tbody>\n",
       "    <tr>\n",
       "      <th>0</th>\n",
       "      <td>H</td>\n",
       "      <td>26</td>\n",
       "      <td>2</td>\n",
       "      <td>2600</td>\n",
       "      <td>1</td>\n",
       "      <td>42</td>\n",
       "      <td>1000000</td>\n",
       "      <td>1001264</td>\n",
       "      <td>37</td>\n",
       "      <td>1</td>\n",
       "      <td>...</td>\n",
       "      <td>31</td>\n",
       "      <td>37</td>\n",
       "      <td>33</td>\n",
       "      <td>38</td>\n",
       "      <td>12</td>\n",
       "      <td>11</td>\n",
       "      <td>34</td>\n",
       "      <td>36</td>\n",
       "      <td>33</td>\n",
       "      <td>35</td>\n",
       "    </tr>\n",
       "    <tr>\n",
       "      <th>1</th>\n",
       "      <td>H</td>\n",
       "      <td>31</td>\n",
       "      <td>2</td>\n",
       "      <td>3403</td>\n",
       "      <td>1</td>\n",
       "      <td>42</td>\n",
       "      <td>1000000</td>\n",
       "      <td>1001264</td>\n",
       "      <td>206</td>\n",
       "      <td>3</td>\n",
       "      <td>...</td>\n",
       "      <td>205</td>\n",
       "      <td>209</td>\n",
       "      <td>56</td>\n",
       "      <td>216</td>\n",
       "      <td>68</td>\n",
       "      <td>224</td>\n",
       "      <td>235</td>\n",
       "      <td>196</td>\n",
       "      <td>369</td>\n",
       "      <td>319</td>\n",
       "    </tr>\n",
       "    <tr>\n",
       "      <th>2</th>\n",
       "      <td>H</td>\n",
       "      <td>35</td>\n",
       "      <td>2</td>\n",
       "      <td>3603</td>\n",
       "      <td>1</td>\n",
       "      <td>42</td>\n",
       "      <td>1000000</td>\n",
       "      <td>1001264</td>\n",
       "      <td>30</td>\n",
       "      <td>2</td>\n",
       "      <td>...</td>\n",
       "      <td>54</td>\n",
       "      <td>51</td>\n",
       "      <td>8</td>\n",
       "      <td>38</td>\n",
       "      <td>31</td>\n",
       "      <td>10</td>\n",
       "      <td>31</td>\n",
       "      <td>9</td>\n",
       "      <td>33</td>\n",
       "      <td>10</td>\n",
       "    </tr>\n",
       "    <tr>\n",
       "      <th>3</th>\n",
       "      <td>H</td>\n",
       "      <td>44</td>\n",
       "      <td>2</td>\n",
       "      <td>200</td>\n",
       "      <td>1</td>\n",
       "      <td>42</td>\n",
       "      <td>1000000</td>\n",
       "      <td>1001264</td>\n",
       "      <td>47</td>\n",
       "      <td>2</td>\n",
       "      <td>...</td>\n",
       "      <td>53</td>\n",
       "      <td>46</td>\n",
       "      <td>54</td>\n",
       "      <td>74</td>\n",
       "      <td>54</td>\n",
       "      <td>16</td>\n",
       "      <td>39</td>\n",
       "      <td>16</td>\n",
       "      <td>10</td>\n",
       "      <td>43</td>\n",
       "    </tr>\n",
       "    <tr>\n",
       "      <th>4</th>\n",
       "      <td>H</td>\n",
       "      <td>52</td>\n",
       "      <td>2</td>\n",
       "      <td>1200</td>\n",
       "      <td>1</td>\n",
       "      <td>42</td>\n",
       "      <td>1000000</td>\n",
       "      <td>1001264</td>\n",
       "      <td>111</td>\n",
       "      <td>3</td>\n",
       "      <td>...</td>\n",
       "      <td>145</td>\n",
       "      <td>219</td>\n",
       "      <td>24</td>\n",
       "      <td>137</td>\n",
       "      <td>106</td>\n",
       "      <td>164</td>\n",
       "      <td>36</td>\n",
       "      <td>99</td>\n",
       "      <td>119</td>\n",
       "      <td>167</td>\n",
       "    </tr>\n",
       "  </tbody>\n",
       "</table>\n",
       "<p>5 rows × 235 columns</p>\n",
       "</div>"
      ],
      "text/plain": [
       "  RT  SERIALNO  DIVISION  PUMA  REGION  ST   ADJHSG   ADJINC  WGTP  NP  \\\n",
       "0  H        26         2  2600       1  42  1000000  1001264    37   1   \n",
       "1  H        31         2  3403       1  42  1000000  1001264   206   3   \n",
       "2  H        35         2  3603       1  42  1000000  1001264    30   2   \n",
       "3  H        44         2   200       1  42  1000000  1001264    47   2   \n",
       "4  H        52         2  1200       1  42  1000000  1001264   111   3   \n",
       "\n",
       "    ...    wgtp71  wgtp72  wgtp73  wgtp74  wgtp75  wgtp76  wgtp77  wgtp78  \\\n",
       "0   ...        31      37      33      38      12      11      34      36   \n",
       "1   ...       205     209      56     216      68     224     235     196   \n",
       "2   ...        54      51       8      38      31      10      31       9   \n",
       "3   ...        53      46      54      74      54      16      39      16   \n",
       "4   ...       145     219      24     137     106     164      36      99   \n",
       "\n",
       "   wgtp79  wgtp80  \n",
       "0      33      35  \n",
       "1     369     319  \n",
       "2      33      10  \n",
       "3      10      43  \n",
       "4     119     167  \n",
       "\n",
       "[5 rows x 235 columns]"
      ]
     },
     "execution_count": 4,
     "metadata": {},
     "output_type": "execute_result"
    }
   ],
   "source": [
    "#Load data\n",
    "df_15 = pd.read_table(\"proj_data/ss15hpa_1yr.csv\", sep=',', low_memory=False)\n",
    "\n",
    "#preview first 5 records...\n",
    "df_15.head()"
   ]
  },
  {
   "cell_type": "code",
   "execution_count": 5,
   "metadata": {
    "collapsed": false
   },
   "outputs": [
    {
     "data": {
      "text/plain": [
       "(63762, 235)"
      ]
     },
     "execution_count": 5,
     "metadata": {},
     "output_type": "execute_result"
    }
   ],
   "source": [
    "df_15.shape"
   ]
  },
  {
   "cell_type": "code",
   "execution_count": 6,
   "metadata": {
    "collapsed": false
   },
   "outputs": [
    {
     "name": "stdout",
     "output_type": "stream",
     "text": [
      "total columns: 235\n"
     ]
    }
   ],
   "source": [
    "print(\"total columns:\", len(df_15.columns))"
   ]
  },
  {
   "cell_type": "code",
   "execution_count": 7,
   "metadata": {
    "collapsed": false
   },
   "outputs": [
    {
     "data": {
      "text/plain": [
       "dtype('int64')"
      ]
     },
     "execution_count": 7,
     "metadata": {},
     "output_type": "execute_result"
    }
   ],
   "source": [
    "df_15['PUMA'].dtype"
   ]
  },
  {
   "cell_type": "code",
   "execution_count": 8,
   "metadata": {
    "collapsed": false
   },
   "outputs": [
    {
     "data": {
      "text/html": [
       "<div>\n",
       "<table border=\"1\" class=\"dataframe\">\n",
       "  <thead>\n",
       "    <tr style=\"text-align: right;\">\n",
       "      <th></th>\n",
       "      <th>SERIALNO</th>\n",
       "      <th>ST</th>\n",
       "      <th>PUMA</th>\n",
       "      <th>ADJHSG</th>\n",
       "      <th>WGTP</th>\n",
       "      <th>BDSP</th>\n",
       "      <th>RNTP</th>\n",
       "      <th>TEN</th>\n",
       "      <th>VACS</th>\n",
       "      <th>HINCP</th>\n",
       "      <th>GRNTP</th>\n",
       "      <th>GRPIP</th>\n",
       "      <th>OCPIP</th>\n",
       "      <th>KIT</th>\n",
       "      <th>PLM</th>\n",
       "    </tr>\n",
       "  </thead>\n",
       "  <tbody>\n",
       "    <tr>\n",
       "      <th>0</th>\n",
       "      <td>26</td>\n",
       "      <td>42</td>\n",
       "      <td>2600</td>\n",
       "      <td>1000000</td>\n",
       "      <td>37</td>\n",
       "      <td>2.0</td>\n",
       "      <td>500.0</td>\n",
       "      <td>3.0</td>\n",
       "      <td>NaN</td>\n",
       "      <td>45000.0</td>\n",
       "      <td>603.0</td>\n",
       "      <td>16.0</td>\n",
       "      <td>NaN</td>\n",
       "      <td>1.0</td>\n",
       "      <td>1.0</td>\n",
       "    </tr>\n",
       "    <tr>\n",
       "      <th>1</th>\n",
       "      <td>31</td>\n",
       "      <td>42</td>\n",
       "      <td>3403</td>\n",
       "      <td>1000000</td>\n",
       "      <td>206</td>\n",
       "      <td>2.0</td>\n",
       "      <td>800.0</td>\n",
       "      <td>3.0</td>\n",
       "      <td>NaN</td>\n",
       "      <td>43300.0</td>\n",
       "      <td>1147.0</td>\n",
       "      <td>32.0</td>\n",
       "      <td>NaN</td>\n",
       "      <td>1.0</td>\n",
       "      <td>1.0</td>\n",
       "    </tr>\n",
       "    <tr>\n",
       "      <th>2</th>\n",
       "      <td>35</td>\n",
       "      <td>42</td>\n",
       "      <td>3603</td>\n",
       "      <td>1000000</td>\n",
       "      <td>30</td>\n",
       "      <td>4.0</td>\n",
       "      <td>NaN</td>\n",
       "      <td>1.0</td>\n",
       "      <td>NaN</td>\n",
       "      <td>125000.0</td>\n",
       "      <td>NaN</td>\n",
       "      <td>NaN</td>\n",
       "      <td>20.0</td>\n",
       "      <td>1.0</td>\n",
       "      <td>1.0</td>\n",
       "    </tr>\n",
       "    <tr>\n",
       "      <th>3</th>\n",
       "      <td>44</td>\n",
       "      <td>42</td>\n",
       "      <td>200</td>\n",
       "      <td>1000000</td>\n",
       "      <td>47</td>\n",
       "      <td>3.0</td>\n",
       "      <td>NaN</td>\n",
       "      <td>2.0</td>\n",
       "      <td>NaN</td>\n",
       "      <td>96200.0</td>\n",
       "      <td>NaN</td>\n",
       "      <td>NaN</td>\n",
       "      <td>7.0</td>\n",
       "      <td>1.0</td>\n",
       "      <td>1.0</td>\n",
       "    </tr>\n",
       "    <tr>\n",
       "      <th>4</th>\n",
       "      <td>52</td>\n",
       "      <td>42</td>\n",
       "      <td>1200</td>\n",
       "      <td>1000000</td>\n",
       "      <td>111</td>\n",
       "      <td>2.0</td>\n",
       "      <td>1100.0</td>\n",
       "      <td>3.0</td>\n",
       "      <td>NaN</td>\n",
       "      <td>20200.0</td>\n",
       "      <td>1190.0</td>\n",
       "      <td>71.0</td>\n",
       "      <td>NaN</td>\n",
       "      <td>1.0</td>\n",
       "      <td>1.0</td>\n",
       "    </tr>\n",
       "  </tbody>\n",
       "</table>\n",
       "</div>"
      ],
      "text/plain": [
       "   SERIALNO  ST  PUMA   ADJHSG  WGTP  BDSP    RNTP  TEN  VACS     HINCP  \\\n",
       "0        26  42  2600  1000000    37   2.0   500.0  3.0   NaN   45000.0   \n",
       "1        31  42  3403  1000000   206   2.0   800.0  3.0   NaN   43300.0   \n",
       "2        35  42  3603  1000000    30   4.0     NaN  1.0   NaN  125000.0   \n",
       "3        44  42   200  1000000    47   3.0     NaN  2.0   NaN   96200.0   \n",
       "4        52  42  1200  1000000   111   2.0  1100.0  3.0   NaN   20200.0   \n",
       "\n",
       "    GRNTP  GRPIP  OCPIP  KIT  PLM  \n",
       "0   603.0   16.0    NaN  1.0  1.0  \n",
       "1  1147.0   32.0    NaN  1.0  1.0  \n",
       "2     NaN    NaN   20.0  1.0  1.0  \n",
       "3     NaN    NaN    7.0  1.0  1.0  \n",
       "4  1190.0   71.0    NaN  1.0  1.0  "
      ]
     },
     "execution_count": 8,
     "metadata": {},
     "output_type": "execute_result"
    }
   ],
   "source": [
    "#too many columns! let's do something about it... \n",
    "#get relevant columns: SERIALNO, ST, PUMA, ADJHSG, ADJINC, WGTP, BDSP (# bedrooms), RNTP (rent), TEN (tenure), VACS (vacancy status),\n",
    "#...HINCP (hh income), GRNTP (gross rent), GRPIP (gross rent as % of hh inc), KIT (complete kitchen), OCPIP (selected monthly owner costs as % hh inc)\n",
    "#...PLM (complete plumbing) \n",
    "df_15_s= df_15[['SERIALNO','ST', 'PUMA', 'ADJHSG', 'WGTP', 'BDSP', 'RNTP', 'TEN', 'VACS','HINCP','GRNTP', 'GRPIP','OCPIP', 'KIT', 'PLM']]\n",
    "\n",
    "df_15_s.head()"
   ]
  },
  {
   "cell_type": "code",
   "execution_count": 9,
   "metadata": {
    "collapsed": false
   },
   "outputs": [
    {
     "name": "stdout",
     "output_type": "stream",
     "text": [
      "PA rental households: 11170\n"
     ]
    }
   ],
   "source": [
    "# r is for renters...\n",
    "df_15_r = df_15_s[df_15_s['GRPIP'].notnull()] \n",
    "print(\"PA rental households:\", len(df_15_r.index))\n"
   ]
  },
  {
   "cell_type": "code",
   "execution_count": 10,
   "metadata": {
    "collapsed": false
   },
   "outputs": [
    {
     "name": "stdout",
     "output_type": "stream",
     "text": [
      "PA rental households with complete kitchen, plumbing: 10954\n"
     ]
    }
   ],
   "source": [
    "# renters with complete kitchen and plumbing\n",
    "df_15_rk = df_15_r[df_15_r['KIT']==1]\n",
    "df_15_rkp = df_15_rk[df_15_rk['PLM']==1]\n",
    "\n",
    "print(\"PA rental households with complete kitchen, plumbing:\", len(df_15_rkp.index))"
   ]
  },
  {
   "cell_type": "code",
   "execution_count": 51,
   "metadata": {
    "collapsed": false
   },
   "outputs": [
    {
     "data": {
      "text/plain": [
       "PUMA\n",
       "101     38.314967\n",
       "102     29.900820\n",
       "200     34.949082\n",
       "300     31.353270\n",
       "400     34.371271\n",
       "500     37.590878\n",
       "600     40.190485\n",
       "701     40.910685\n",
       "702     37.281683\n",
       "801     37.184252\n",
       "802     40.102542\n",
       "803     31.033572\n",
       "900     41.589974\n",
       "1000    25.132953\n",
       "1100    32.046529\n",
       "1200    39.179121\n",
       "1300    38.700481\n",
       "1400    35.082559\n",
       "1501    40.172407\n",
       "1502    32.344680\n",
       "1600    36.267570\n",
       "1701    43.163888\n",
       "1702    37.779320\n",
       "1801    32.018271\n",
       "1802    35.791964\n",
       "1803    30.432157\n",
       "1804    40.110277\n",
       "1805    36.961123\n",
       "1806    33.098905\n",
       "1807    42.335888\n",
       "          ...    \n",
       "3203    44.009471\n",
       "3204    53.450856\n",
       "3205    44.038373\n",
       "3206    44.571498\n",
       "3207    42.686827\n",
       "3208    48.110174\n",
       "3209    34.127436\n",
       "3210    47.209829\n",
       "3211    40.434846\n",
       "3301    41.621660\n",
       "3302    37.725905\n",
       "3303    43.233253\n",
       "3304    37.810873\n",
       "3401    30.310706\n",
       "3402    34.230612\n",
       "3403    36.618557\n",
       "3404    39.508402\n",
       "3501    42.622097\n",
       "3502    34.051627\n",
       "3503    35.457811\n",
       "3504    42.397380\n",
       "3601    42.863026\n",
       "3602    33.783276\n",
       "3603    31.033320\n",
       "3701    33.584902\n",
       "3702    31.245582\n",
       "3800    40.748261\n",
       "3900    42.501873\n",
       "4001    32.039784\n",
       "4002    29.736438\n",
       "dtype: float64"
      ]
     },
     "execution_count": 51,
     "metadata": {},
     "output_type": "execute_result"
    }
   ],
   "source": [
    "#find weighted averages of rental costs burden (GRPIP) by PUMA\n",
    "df_15_rkp.groupby('PUMA').apply(lambda x: np.average(x.GRPIP, weights=x.WGTP))\n"
   ]
  },
  {
   "cell_type": "code",
   "execution_count": 65,
   "metadata": {
    "collapsed": false
   },
   "outputs": [],
   "source": [
    "#unweighted quantile of rental costs burden by PUMA\n",
    "# df_q = df_15_rkp.groupby('PUMA')['GRPIP'].quantile([0.25,0.5,0.75])\n",
    "df_q = df_15_rkp.groupby('PUMA')['GRPIP'].quantile(0.75)\n",
    "\n",
    "df_q.to_csv('quartile75_puma.csv', sep=',', encoding='utf-8')"
   ]
  },
  {
   "cell_type": "code",
   "execution_count": 67,
   "metadata": {
    "collapsed": true
   },
   "outputs": [],
   "source": [
    "df_q= df_q.to_frame()"
   ]
  },
  {
   "cell_type": "code",
   "execution_count": 68,
   "metadata": {
    "collapsed": false
   },
   "outputs": [
    {
     "data": {
      "image/png": "[encoded data removed]",
      "text/plain": [
       "<matplotlib.figure.Figure at 0x11be02668>"
      ]
     },
     "metadata": {},
     "output_type": "display_data"
    }
   ],
   "source": [
    "#Scatterplot of 75% quartile gross rent as % of household income\n",
    "plt.scatter(df_q.index,df_q['GRPIP'], s=25)\n",
    "plt.axis([0,4000,0,80])\n",
    "plt.ylabel('75% quartile Gross Rent as % of HH Income')\n",
    "plt.xlabel('PA PUMA')\n",
    "plt.title('Rental Cost Burden in PA by PUMA')\n",
    "\n",
    "plt.savefig(\"rentcostburden_puma15\", bbox_inches='tight')\n",
    "plt.show()"
   ]
  },
  {
   "cell_type": "code",
   "execution_count": 31,
   "metadata": {
    "collapsed": false
   },
   "outputs": [
    {
     "ename": "TypeError",
     "evalue": "object of type 'Calculator' has no len()",
     "output_type": "error",
     "traceback": [
      "\u001b[0;31m---------------------------------------------------------------------------\u001b[0m",
      "\u001b[0;31mTypeError\u001b[0m                                 Traceback (most recent call last)",
      "\u001b[0;32m<ipython-input-31-1937804b471a>\u001b[0m in \u001b[0;36m<module>\u001b[0;34m()\u001b[0m\n\u001b[1;32m      2\u001b[0m \u001b[0mcalc\u001b[0m \u001b[0;34m=\u001b[0m \u001b[0mwc\u001b[0m\u001b[0;34m.\u001b[0m\u001b[0mCalculator\u001b[0m\u001b[0;34m(\u001b[0m\u001b[0;34m\"WGTP\"\u001b[0m\u001b[0;34m)\u001b[0m\u001b[0;34m\u001b[0m\u001b[0m\n\u001b[1;32m      3\u001b[0m \u001b[0mgrp\u001b[0m \u001b[0;34m=\u001b[0m \u001b[0mdf_15_rkp\u001b[0m\u001b[0;34m.\u001b[0m\u001b[0mgroupby\u001b[0m\u001b[0;34m(\u001b[0m\u001b[0;34m'PUMA'\u001b[0m\u001b[0;34m)\u001b[0m\u001b[0;34m\u001b[0m\u001b[0m\n\u001b[0;32m----> 4\u001b[0;31m \u001b[0mlen\u001b[0m\u001b[0;34m(\u001b[0m\u001b[0mcalc\u001b[0m\u001b[0;34m)\u001b[0m\u001b[0;34m\u001b[0m\u001b[0m\n\u001b[0m\u001b[1;32m      5\u001b[0m \u001b[0;31m# calc.quantile(grp, 'GRPIP', 0.75)\u001b[0m\u001b[0;34m\u001b[0m\u001b[0;34m\u001b[0m\u001b[0m\n\u001b[1;32m      6\u001b[0m \u001b[0;31m#dfg.quantile_1D(df_15_rkp['GRPIP'],df_15_rkp['WGTP'],0.75)\u001b[0m\u001b[0;34m\u001b[0m\u001b[0;34m\u001b[0m\u001b[0m\n",
      "\u001b[0;31mTypeError\u001b[0m: object of type 'Calculator' has no len()"
     ]
    }
   ],
   "source": [
    "#weighted 75th quartile for entire dataset\n",
    "calc = wc.Calculator(\"WGTP\")\n",
    "grp = df_15_rkp.groupby('PUMA')\n",
    "\n",
    "# calc.quantile(grp, 'GRPIP', 0.75)\n",
    "#dfg.quantile_1D(df_15_rkp['GRPIP'],df_15_rkp['WGTP'],0.75)"
   ]
  },
  {
   "cell_type": "code",
   "execution_count": 21,
   "metadata": {
    "collapsed": false
   },
   "outputs": [
    {
     "data": {
      "text/plain": [
       "48.0"
      ]
     },
     "execution_count": 21,
     "metadata": {},
     "output_type": "execute_result"
    }
   ],
   "source": [
    "#unweighted 75th quartile for entire dataset\n",
    "df_15_rkp['GRPIP'].quantile(0.75)"
   ]
  },
  {
   "cell_type": "code",
   "execution_count": 7,
   "metadata": {
    "collapsed": false
   },
   "outputs": [
    {
     "data": {
      "text/plain": [
       "(16674, 235)"
      ]
     },
     "execution_count": 7,
     "metadata": {},
     "output_type": "execute_result"
    }
   ],
   "source": [
    "#explore vacancies \n",
    "#groupedv = df_pums15_s.groupby('VACS')\n",
    "#groupedv['VACS'].count()"
   ]
  },
  {
   "cell_type": "code",
   "execution_count": 8,
   "metadata": {
    "collapsed": false
   },
   "outputs": [
    {
     "data": {
      "text/html": [
       "<div>\n",
       "<table border=\"1\" class=\"dataframe\">\n",
       "  <thead>\n",
       "    <tr style=\"text-align: right;\">\n",
       "      <th></th>\n",
       "      <th>RT</th>\n",
       "      <th>SERIALNO</th>\n",
       "      <th>DIVISION</th>\n",
       "      <th>PUMA</th>\n",
       "      <th>REGION</th>\n",
       "      <th>ST</th>\n",
       "      <th>ADJHSG</th>\n",
       "      <th>ADJINC</th>\n",
       "      <th>WGTP</th>\n",
       "      <th>NP</th>\n",
       "      <th>...</th>\n",
       "      <th>wgtp71</th>\n",
       "      <th>wgtp72</th>\n",
       "      <th>wgtp73</th>\n",
       "      <th>wgtp74</th>\n",
       "      <th>wgtp75</th>\n",
       "      <th>wgtp76</th>\n",
       "      <th>wgtp77</th>\n",
       "      <th>wgtp78</th>\n",
       "      <th>wgtp79</th>\n",
       "      <th>wgtp80</th>\n",
       "    </tr>\n",
       "  </thead>\n",
       "  <tbody>\n",
       "    <tr>\n",
       "      <th>3</th>\n",
       "      <td>H</td>\n",
       "      <td>44</td>\n",
       "      <td>2</td>\n",
       "      <td>200</td>\n",
       "      <td>1</td>\n",
       "      <td>42</td>\n",
       "      <td>1000000</td>\n",
       "      <td>1001264</td>\n",
       "      <td>47</td>\n",
       "      <td>2</td>\n",
       "      <td>...</td>\n",
       "      <td>53</td>\n",
       "      <td>46</td>\n",
       "      <td>54</td>\n",
       "      <td>74</td>\n",
       "      <td>54</td>\n",
       "      <td>16</td>\n",
       "      <td>39</td>\n",
       "      <td>16</td>\n",
       "      <td>10</td>\n",
       "      <td>43</td>\n",
       "    </tr>\n",
       "    <tr>\n",
       "      <th>11</th>\n",
       "      <td>H</td>\n",
       "      <td>224</td>\n",
       "      <td>2</td>\n",
       "      <td>2701</td>\n",
       "      <td>1</td>\n",
       "      <td>42</td>\n",
       "      <td>1000000</td>\n",
       "      <td>1001264</td>\n",
       "      <td>81</td>\n",
       "      <td>2</td>\n",
       "      <td>...</td>\n",
       "      <td>79</td>\n",
       "      <td>79</td>\n",
       "      <td>82</td>\n",
       "      <td>78</td>\n",
       "      <td>126</td>\n",
       "      <td>148</td>\n",
       "      <td>73</td>\n",
       "      <td>85</td>\n",
       "      <td>76</td>\n",
       "      <td>86</td>\n",
       "    </tr>\n",
       "    <tr>\n",
       "      <th>14</th>\n",
       "      <td>H</td>\n",
       "      <td>352</td>\n",
       "      <td>2</td>\n",
       "      <td>500</td>\n",
       "      <td>1</td>\n",
       "      <td>42</td>\n",
       "      <td>1000000</td>\n",
       "      <td>1001264</td>\n",
       "      <td>23</td>\n",
       "      <td>1</td>\n",
       "      <td>...</td>\n",
       "      <td>7</td>\n",
       "      <td>26</td>\n",
       "      <td>23</td>\n",
       "      <td>28</td>\n",
       "      <td>41</td>\n",
       "      <td>7</td>\n",
       "      <td>22</td>\n",
       "      <td>19</td>\n",
       "      <td>43</td>\n",
       "      <td>21</td>\n",
       "    </tr>\n",
       "    <tr>\n",
       "      <th>16</th>\n",
       "      <td>H</td>\n",
       "      <td>371</td>\n",
       "      <td>2</td>\n",
       "      <td>400</td>\n",
       "      <td>1</td>\n",
       "      <td>42</td>\n",
       "      <td>1000000</td>\n",
       "      <td>1001264</td>\n",
       "      <td>35</td>\n",
       "      <td>2</td>\n",
       "      <td>...</td>\n",
       "      <td>10</td>\n",
       "      <td>57</td>\n",
       "      <td>35</td>\n",
       "      <td>31</td>\n",
       "      <td>34</td>\n",
       "      <td>66</td>\n",
       "      <td>35</td>\n",
       "      <td>36</td>\n",
       "      <td>27</td>\n",
       "      <td>63</td>\n",
       "    </tr>\n",
       "    <tr>\n",
       "      <th>20</th>\n",
       "      <td>H</td>\n",
       "      <td>473</td>\n",
       "      <td>2</td>\n",
       "      <td>3104</td>\n",
       "      <td>1</td>\n",
       "      <td>42</td>\n",
       "      <td>1000000</td>\n",
       "      <td>1001264</td>\n",
       "      <td>196</td>\n",
       "      <td>2</td>\n",
       "      <td>...</td>\n",
       "      <td>52</td>\n",
       "      <td>189</td>\n",
       "      <td>173</td>\n",
       "      <td>65</td>\n",
       "      <td>193</td>\n",
       "      <td>60</td>\n",
       "      <td>365</td>\n",
       "      <td>336</td>\n",
       "      <td>212</td>\n",
       "      <td>191</td>\n",
       "    </tr>\n",
       "  </tbody>\n",
       "</table>\n",
       "<p>5 rows × 235 columns</p>\n",
       "</div>"
      ],
      "text/plain": [
       "   RT  SERIALNO  DIVISION  PUMA  REGION  ST   ADJHSG   ADJINC  WGTP  NP  \\\n",
       "3   H        44         2   200       1  42  1000000  1001264    47   2   \n",
       "11  H       224         2  2701       1  42  1000000  1001264    81   2   \n",
       "14  H       352         2   500       1  42  1000000  1001264    23   1   \n",
       "16  H       371         2   400       1  42  1000000  1001264    35   2   \n",
       "20  H       473         2  3104       1  42  1000000  1001264   196   2   \n",
       "\n",
       "     ...    wgtp71  wgtp72  wgtp73  wgtp74  wgtp75  wgtp76  wgtp77  wgtp78  \\\n",
       "3    ...        53      46      54      74      54      16      39      16   \n",
       "11   ...        79      79      82      78     126     148      73      85   \n",
       "14   ...         7      26      23      28      41       7      22      19   \n",
       "16   ...        10      57      35      31      34      66      35      36   \n",
       "20   ...        52     189     173      65     193      60     365     336   \n",
       "\n",
       "    wgtp79  wgtp80  \n",
       "3       10      43  \n",
       "11      76      86  \n",
       "14      43      21  \n",
       "16      27      63  \n",
       "20     212     191  \n",
       "\n",
       "[5 rows x 235 columns]"
      ]
     },
     "execution_count": 8,
     "metadata": {},
     "output_type": "execute_result"
    }
   ],
   "source": []
  },
  {
   "cell_type": "code",
   "execution_count": null,
   "metadata": {
    "collapsed": true
   },
   "outputs": [],
   "source": []
  }
 ],
 "metadata": {
  "anaconda-cloud": {},
  "kernelspec": {
   "display_name": "Python [Root]",
   "language": "python",
   "name": "Python [Root]"
  },
  "language_info": {
   "codemirror_mode": {
    "name": "ipython",
    "version": 3
   },
   "file_extension": ".py",
   "mimetype": "text/x-python",
   "name": "python",
   "nbconvert_exporter": "python",
   "pygments_lexer": "ipython3",
   "version": "3.5.2"
  }
 },
 "nbformat": 4,
 "nbformat_minor": 0
}
