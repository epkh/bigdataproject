{
 "cells": [
  {
   "cell_type": "markdown",
   "metadata": {},
   "source": [
    "### HTML/CSS/JavaScript: Problem Set 5\n",
    "#### Danya Littlefield, Emily Long + Phoebe Holtzman"
   ]
  },
  {
   "cell_type": "markdown",
   "metadata": {},
   "source": [
    "### Part 1: Create a Project Website"
   ]
  },
  {
   "cell_type": "markdown",
   "metadata": {},
   "source": [
    "##### website link: https://epkh.github.io/affordablehousing/"
   ]
  },
  {
   "cell_type": "markdown",
   "metadata": {},
   "source": [
    "### Part 2: Begin to Explore and Visualize your Project Data"
   ]
  },
  {
   "cell_type": "markdown",
   "metadata": {
    "collapsed": true
   },
   "source": [
    "##### list of data:\n",
    "Sources of Data:\n",
    "U.S. Census Bureau American Community Survey Public Use Microdata Sample (PUMS) 1-year estimates \n",
    "U.S. Census Bureau American Community Survey Tables, 1-year estimates\n",
    "U.S. Department of Housing and Urban Development Picture of Subsidized Households \n",
    "\n",
    "##### one chart and one map..."
   ]
  },
  {
   "cell_type": "markdown",
   "metadata": {},
   "source": []
  },
  {
   "cell_type": "markdown",
   "metadata": {},
   "source": [
    "### Part 3: Get Started with D3"
   ]
  },
  {
   "cell_type": "markdown",
   "metadata": {},
   "source": [
    "##### website link to adaptation of bostock's slider: https://epkh.github.io/slider/\n",
    "##### website link to adaptation of bostock's choropleth map: https://epkh.github.io/choroplethtest/"
   ]
  },
  {
   "cell_type": "code",
   "execution_count": null,
   "metadata": {
    "collapsed": true
   },
   "outputs": [],
   "source": []
  }
 ],
 "metadata": {
  "kernelspec": {
   "display_name": "Python [Root]",
   "language": "python",
   "name": "Python [Root]"
  },
  "language_info": {
   "codemirror_mode": {
    "name": "ipython",
    "version": 3
   },
   "file_extension": ".py",
   "mimetype": "text/x-python",
   "name": "python",
   "nbconvert_exporter": "python",
   "pygments_lexer": "ipython3",
   "version": "3.5.2"
  }
 },
 "nbformat": 4,
 "nbformat_minor": 2
}
