{
 "cells": [
  {
   "cell_type": "code",
   "execution_count": null,
   "metadata": {
    "collapsed": true
   },
   "outputs": [],
   "source": []
  },
  {
   "cell_type": "code",
   "execution_count": 2,
   "metadata": {
    "collapsed": true
   },
   "outputs": [],
   "source": [
    "#load libraries\n",
    "import pandas as pd\n",
    "import numpy as np\n",
    "import matplotlib.pylab as plt\n",
    "from itertools import cycle, islice\n",
    "import weightedcalcs as wc\n",
    "\n",
    "# This line lets us plot on our ipython notebook\n",
    "%matplotlib inline"
   ]
  },
  {
   "cell_type": "markdown",
   "metadata": {},
   "source": [
    "# This python notebook parses and summarizes PUMs data\n",
    "# Four functions:\n",
    "    \n",
    "1) filtercolumns: gets relevant columns from pums data, joins with povdata\n",
    "2) rentersonly: gets renter hh from df from fxn 1\n",
    "3) calcPov: creates poverty summary table from df from fxn 1 or 2\n",
    "4) calcBurden: creates cost burden summary table from df from fxn 1 or 2"
   ]
  },
  {
   "cell_type": "code",
   "execution_count": 5,
   "metadata": {
    "collapsed": false
   },
   "outputs": [],
   "source": [
    "pov = pd.read_table(\"proj_data/pov_guidelines.csv\", sep=',', low_memory=False)\n",
    "\n",
    "#get poverty tables for ea year\n",
    "pov15=pov.iloc[:,[0,1]]\n",
    "pov10=pov.iloc[:,[0,6]]\n",
    "pov05=pov.iloc[:,[0,11]]\n"
   ]
  },
  {
   "cell_type": "code",
   "execution_count": 6,
   "metadata": {
    "collapsed": true
   },
   "outputs": [],
   "source": [
    "#load pums data\n",
    "pums15 = \"proj_data/ss15hpa_1yr.csv\"\n",
    "pums10=\"proj_data/ss10hpa.csv\"\n",
    "pums05=\"proj_data/ss05hpa.csv\"\n"
   ]
  },
  {
   "cell_type": "code",
   "execution_count": 7,
   "metadata": {
    "collapsed": false
   },
   "outputs": [],
   "source": [
    "def filtercolumns(pumsdata, povdata):\n",
    "    \"\"\"\n",
    "    function filtercolumns pulls relevant columns from each year's pums households data (csv)\n",
    "    and joins with poverty data based on hhd_size, \n",
    "    povdata (a df of just that year's poverty guidelines) \n",
    "    returns df of pums data with joined pov data\n",
    "    \"\"\"\n",
    "    pums = pd.read_table(pumsdata,sep=\",\", low_memory=False)\n",
    "    df_relevant = pums[['SERIALNO','ST', 'PUMA', 'WGTP', 'NP', 'TEN', 'BLD', 'RNTP', 'VACS','HINCP','SMOCP','GRNTP', 'GRPIP','OCPIP', 'KIT', 'PLM']]\n",
    "    pums_pov = df_relevant.merge(povdata, left_on='NP', right_on='hhd_size')\n",
    "    return pums_pov\n",
    "\n",
    "# test code\n",
    "# fd15=filtercolumns(pums15,pov15)\n",
    "\n"
   ]
  },
  {
   "cell_type": "code",
   "execution_count": 8,
   "metadata": {
    "collapsed": false
   },
   "outputs": [],
   "source": [
    "def rentersonly(data, yyyy):\n",
    "    \"\"\"\n",
    "    pulls renter records \n",
    "    requires two arguments, \n",
    "    data is pums df with joined pov data\n",
    "    yyyy is 4-digit year, eg 2015\n",
    "    returns renters df\n",
    "    \n",
    "    \"\"\"\n",
    "    #convert yyyy to pov_yy, eg 2015 to pov_15\n",
    "    yyyys = str(yyyy)\n",
    "    yy=yyyys[-2:]\n",
    "    povyear = \"pov\" + \"_\" + yy\n",
    "    \n",
    "    #filter renters with complete kitchen and plumbing\n",
    "    r = data[data['TEN']==3]\n",
    "    rK = r[r['KIT']==1]\n",
    "    rKP = rK[rK['PLM']==1]\n",
    "    return rKP"
   ]
  },
  {
   "cell_type": "code",
   "execution_count": 9,
   "metadata": {
    "collapsed": true
   },
   "outputs": [],
   "source": [
    "def calcPov(data, yyyy, exportname=\"\"):\n",
    "    \"\"\"\n",
    "    calculates % of HH below federal poverty line in each \n",
    "    PUMA. \n",
    "    requires 2 arguments:\n",
    "    data is pums df with joined pov data (can be df from rentersonly)\n",
    "    yyyyy is 4-digit year, eg 2015\n",
    "    exportname is export csv name\n",
    "    if no exportname is provided, returns pct poverty by puma as DF \n",
    "    otherwise returns csv\n",
    "    \n",
    "    \"\"\"\n",
    "    #convert yyyy to pov_yy, eg 2015 to pov_15\n",
    "    yyyys = str(yyyy)\n",
    "    yy=yyyys[-2:]\n",
    "    povyear = \"pov\" + \"_\" + str(yy)\n",
    "    \n",
    "    #add new column\n",
    "    data['WGTPpov'] = data['WGTP'].where(data['HINCP']<=rKP[povyear], 0)\n",
    "    \n",
    "    #group by Puma\n",
    "    grp = rKP.groupby([\"PUMA\"])\n",
    "    \n",
    "    #summarize hhs below poverty\n",
    "    povsum = grp[['WGTP','WGTPpov']].sum()\n",
    "    \n",
    "    #calc %\n",
    "    povsum['PCTpov'] = (povsum['WGTPpov'] / povsum['WGTP'])*100\n",
    "    \n",
    "    #determine what fxn returns\n",
    "    if len(exportname)>0:\n",
    "        povsum.to_csv(exportname)\n",
    "        print(yyyy+\" poverty summary table successfully exported to csv\")\n",
    "    else:\n",
    "        return povsum"
   ]
  },
  {
   "cell_type": "code",
   "execution_count": 10,
   "metadata": {
    "collapsed": false
   },
   "outputs": [],
   "source": [
    "def calcBurden(data, yyyy, exportname=\"\"):\n",
    "    \"\"\"\n",
    "    calculates % of HH with cost burden greater than 30% in ea puma\n",
    "    requires 2 arguments:\n",
    "    data is pums df with joined pov data (can be df from rentersonly)\n",
    "    exportname is export csv name\n",
    "    if no exportname is provided, returns pct with cost burden >30% by puma as DF \n",
    "    otherwise returns csv    \n",
    "    \"\"\"\n",
    "    #convert yyyy to pov_yy, eg 2015 to pov_15\n",
    "    yyyys = str(yyyy)\n",
    "    yy=yyyys[-2:]\n",
    "    povyear = \"pov\" + \"_\" + str(yy)\n",
    "    \n",
    "    #from renters only table, grab only hh below pov line\n",
    "    need = data[(data['HINCP']<=data[povyear]) & (data['GRPIP'].notnull())]\n",
    "    \n",
    "    #add new column\n",
    "    need['WGTP30'] = need['WGTP'].where(need['GRPIP']>=30.0, 0)\n",
    "    \n",
    "    #group by puma\n",
    "    grp = need.groupby([\"PUMA\"])\n",
    "    \n",
    "    #calculate totals by PUMA of hhds and hhds with burden over 30%\n",
    "    burdensum = grp[['WGTP','WGTP30']].sum()\n",
    "    \n",
    "    #add pct column\n",
    "    burdensum['PCTburden30'] = (burdensum['WGTP30'] / burdensum['WGTP'])*100\n",
    "    \n",
    "    #export or return df\n",
    "    if len(exportname)>0:\n",
    "        burdensum.to_csv(exportname)\n",
    "        print(yyyy+\" burden summary table successfully exported to csv\")\n",
    "    else:\n",
    "        return burdensum\n",
    "\n",
    "\n",
    "#code to test that it worked!\n",
    "#calcBurden(rentersonly(fd15,15),15)"
   ]
  },
  {
   "cell_type": "markdown",
   "metadata": {},
   "source": [
    "# summary\n",
    "\"\"\"\n",
    "basically, use filter fxn to filter columns + join pov, then use rentersonly to grab only renter \n",
    "households. then calcBurden or calcPov to get summary tables \n",
    "NOTE: should be able to adjust calcBurden and calcPov so we can use these fxns for \n",
    "owners too\n",
    "\"\"\""
   ]
  },
  {
   "cell_type": "code",
   "execution_count": 11,
   "metadata": {
    "collapsed": false
   },
   "outputs": [
    {
     "name": "stdout",
     "output_type": "stream",
     "text": [
      "burden summary table successfully exported to csv\n"
     ]
    },
    {
     "name": "stderr",
     "output_type": "stream",
     "text": [
      "//anaconda/lib/python3.5/site-packages/ipykernel/__main__.py:18: SettingWithCopyWarning: \n",
      "A value is trying to be set on a copy of a slice from a DataFrame.\n",
      "Try using .loc[row_indexer,col_indexer] = value instead\n",
      "\n",
      "See the caveats in the documentation: http://pandas.pydata.org/pandas-docs/stable/indexing.html#indexing-view-versus-copy\n"
     ]
    }
   ],
   "source": [
    "#Results: Run code here when ready to export\n",
    "\n",
    "#no export, returns dfs\n",
    "# calcBurden(rentersonly(filtercolumns(pums10, pov10),2010),2010)\n",
    "# calcBurden(rentersonly(filtercolumns(pums05, pov05),2005),2005)\n",
    "# calcPov(rentersonly(filtercolumns(pums10, pov10),2010),2010)\n",
    "# calcPov(rentersonly(filtercolumns(pums05, pov05),2005),2005)\n",
    "\n",
    "#export to csv\n",
    "# calcBurden(rentersonly(filtercolumns(pums10, pov10),2010),2010,\"r10_totalsburden30.csv\")\n",
    "# calcBurden(rentersonly(filtercolumns(pums05, pov05),2005),2005,\"r05_totalsburden30.csv\")\n",
    "# calcPov(rentersonly(filtercolumns(pums10, pov10),2010),2010, \"r10_poverty.csv\")\n",
    "# calcPov(rentersonly(filtercolumns(pums05, pov05),2005),2005, \"r05_poverty.csv\")"
   ]
  },
  {
   "cell_type": "code",
   "execution_count": null,
   "metadata": {
    "collapsed": true
   },
   "outputs": [],
   "source": []
  }
 ],
 "metadata": {
  "kernelspec": {
   "display_name": "Python [Root]",
   "language": "python",
   "name": "Python [Root]"
  },
  "language_info": {
   "codemirror_mode": {
    "name": "ipython",
    "version": 3
   },
   "file_extension": ".py",
   "mimetype": "text/x-python",
   "name": "python",
   "nbconvert_exporter": "python",
   "pygments_lexer": "ipython3",
   "version": "3.5.2"
  }
 },
 "nbformat": 4,
 "nbformat_minor": 0
}
